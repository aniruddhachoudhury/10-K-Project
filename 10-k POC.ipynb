{
 "cells": [
  {
   "cell_type": "code",
   "execution_count": 2,
   "metadata": {},
   "outputs": [],
   "source": [
    "from bs4 import BeautifulSoup\n",
    "import requests\n",
    "import sys\n",
    "\n",
    "# Access page\n",
    "cik = ' 0000072971'\n",
    "type = '10-K'\n",
    "dateb = '20180101'\n",
    "\n"
   ]
  },
  {
   "cell_type": "code",
   "execution_count": 3,
   "metadata": {},
   "outputs": [],
   "source": [
    "# Obtain HTML for search page\n",
    "base_url = \"https://www.sec.gov/cgi-bin/browse-edgar?action=getcompany&CIK={}&type={}&dateb={}\"\n",
    "edgar_resp = requests.get(base_url.format(cik, type, dateb))\n",
    "edgar_str = edgar_resp.text\n",
    "\n"
   ]
  },
  {
   "cell_type": "code",
   "execution_count": 4,
   "metadata": {},
   "outputs": [
    {
     "data": {
      "text/plain": [
       "<Response [200]>"
      ]
     },
     "execution_count": 4,
     "metadata": {},
     "output_type": "execute_result"
    }
   ],
   "source": [
    "edgar_resp"
   ]
  },
  {
   "cell_type": "code",
   "execution_count": 5,
   "metadata": {},
   "outputs": [
    {
     "data": {
      "text/plain": [
       "'<!DOCTYPE HTML PUBLIC \"-//W3C//DTD HTML 4.01 Transitional//EN\" \"http://www.w3.org/TR/html4/loose.dtd\">\\n<html lang=\"ENG\">\\n<head>\\n<title>EDGAR Search Results</title>\\n<link href=\"/include/interactive.css\" rel=\"stylesheet\" type=\"text/css\" />\\n<link rel=\"alternate\" type=\"application/atom+xml\" title=\"ATOM\" href=\"/cgi-bin/browse-edgar?action=getcompany&amp;CIK=0000072971&amp;type=10-K%25&amp;dateb=20180101&amp;owner=include&amp;count=40&amp;output=atom\" />\\n\\n</head>\\n<body style=\"margin: 0\">\\n<!-- SEC Web Analytics - For information please visit: https://www.sec.gov/privacy.htm#collectedinfo -->\\n<noscript><iframe src=\"//www.googletagmanager.com/ns.html?id=GTM-TD3BKV\"\\nheight=\"0\" width=\"0\" style=\"display:none;visibility:hidden\"></iframe></noscript>\\n<script>(function(w,d,s,l,i){w[l]=w[l]||[];w[l].push({\\'gtm.start\\':\\nnew Date().getTime(),event:\\'gtm.js\\'});var f=d.getElementsByTagName(s)[0],\\nj=d.createElement(s),dl=l!=\\'dataLayer\\'?\\'&l=\\'+l:\\'\\';j.async=true;j.src=\\n\\'//www.googletagmanager.com/gtm.js?id=\\'+i+dl;f.parentNode.insertBefore(j,f);\\n})(window,document,\\'script\\',\\'dataLayer\\',\\'GTM-TD3BKV\\');</script>\\n<!-- End SEC Web Analytics -->\\n\\n<!-- BEGIN BANNER -->\\n<div id=\"headerTop\">\\n   <div id=\"Nav\"><a href=\"/index.htm\">Home</a> | <a href=\"/cgi-bin/browse-edgar?action=getcurrent\">Latest Filings</a> | <a href=\"javascript:history.back()\">Previous Page</a></div>\\n   <div id=\"seal\"><a href=\"/index.htm\"><img src=\"/images/sealTop.gif\" alt=\"SEC Seal\" border=\"0\" /></a></div>\\n   <div id=\"secWordGraphic\"><img src=\"/images/bannerTitle.gif\" alt=\"SEC Banner\" /></div>\\n</div>\\n<div id=\"headerBottom\">\\n<div id=\"secBetaGraphic\"><a href=\"/cgi-bin/browse-edgar?action=getcompany&amp;CIK=0000072971&amp;type=10-K%25&amp;dateb=20180101&amp;owner=include&amp;count=100&amp;output=xml\"><img src=\"/images/edgar_button_usasearch.png\" alt=\"EDGAR USA Search\" style=\"border-style: none\"/></a></div>   <div id=\"PageTitle\">EDGAR Search Results</div>\\n</div>\\n<!-- END BANNER -->\\n\\n\\n<!-- BEGIN BREADCRUMBS -->\\n<div id=\"breadCrumbs\">\\n   <ul>\\n      <li><a href=\"/index.htm\">SEC Home</a> &#187;</li>\\n      <li><a href=\"/edgar/searchedgar/webusers.htm\">Search the Next-Generation EDGAR System</a> &#187;</li>\\n      <li><a href=\"/edgar/searchedgar/companysearch.html\">Company Search</a> &#187;</li>\\n      <li class=\"last\">Current Page</li>\\n   </ul>\\n</div>\\n<!-- END BREADCRUMBS -->\\n\\n<div id=\"contentDiv\">\\n   <!-- START FILER DIV -->\\n   <div style=\"margin: 15px 0 10px 0; padding: 3px; overflow: hidden; background-color: #BCD6F8;\">\\n      <div class=\"mailer\">Mailing Address\\n         <span class=\"mailerAddress\">420 MONTGOMERY STREET</span>\\n         <span class=\"mailerAddress\">\\nSAN FRANCISCO CA 94163         </span>\\n      </div>\\n      <div class=\"mailer\">Business Address\\n         <span class=\"mailerAddress\">420 MONTGOMERY STREET</span>\\n         <span class=\"mailerAddress\">\\nSAN FRANCISCO CA 94163         </span>\\n         <span class=\"mailerAddress\">6126671234</span>\\n      </div>\\n      <div class=\"companyInfo\">\\n         <span class=\"companyName\">WELLS FARGO &amp; COMPANY/MN <acronym title=\"Central Index Key\">CIK</acronym>#: <a href=\"/cgi-bin/browse-edgar?action=getcompany&amp;CIK=0000072971&amp;owner=include&amp;count=40\">0000072971 (see all company filings)</a></span>\\n         <p class=\"identInfo\"><acronym title=\"Standard Industrial Code\">SIC</acronym>: <a href=\"/cgi-bin/browse-edgar?action=getcompany&amp;SIC=6021&amp;owner=include&amp;count=40\">6021</a> - NATIONAL COMMERCIAL BANKS<br />State location: <a href=\"/cgi-bin/browse-edgar?action=getcompany&amp;State=CA&amp;owner=include&amp;count=40\">CA</a> | State of Inc.: <strong>DE</strong> | Fiscal Year End: 1231<br />formerly: NORWEST CORP (filings through 1998-10-21)<br />formerly: WELLS FARGO &amp; CO/MN (filings through 2012-04-10)<br />(Assistant Director Office: 7)<br />Get <a href=\"/cgi-bin/own-disp?action=getissuer&amp;CIK=0000072971\"><b>insider transactions</b></a> for this <b>issuer</b>.\\n<br />Get <a href=\"/cgi-bin/own-disp?action=getowner&amp;CIK=0000072971\"><b>insider transactions</b></a> for this <b>reporting owner</b>.\\n</p>\\n      </div>\\n   </div>\\n   <div style=\"width: 100%;\">\\n      <form method=\"GET\" action=\"/cgi-bin/browse-edgar\">\\n         <input type=\"hidden\" name=\"action\" value=\"getcompany\">\\n         <input type=\"hidden\" name=\"CIK\" value=\"0000072971\">\\n         <table style=\"margin: 0px; background:#FFFFFF; border: 1px solid #BCD6F8; width: 100%;\">\\n            <tr>\\n               <td>Filter Results:</td>\\n               <td><label for=\"type\">Filing Type:</label><br /><input name=\"type\" size=\"10\" tabindex=\"1\" id=\"type\" value=\"10-K\"></td>\\n               <td><label for=\"prior_to\">Prior to:</label> (YYYYMMDD)<br /><input name=\"dateb\" size=\"10\" tabindex=\"2\" id=\"prior_to\" value=\"20180101\"></td>\\n               <td>Ownership?<br /><input type=\"radio\" name=\"owner\" value=\"include\" id=\"include\" checked=\"checked\" tabindex=\"3\"><label for=\"include\">include</label><input type=\"radio\" name=\"owner\" value=\"exclude\" id=\"exclude\" tabindex=\"4\"><label for=\"exclude\">exclude</label><input type=\"radio\" name=\"owner\" value=\"only\" id=\"only\" tabindex=\"5\"/><label for=\"only\">only</label>\\n               <td><label for=\"count\">Limit Results Per Page</label><br />\\n\\t\\t\\t\\t\\t <select name=\"count\" id=\"count\" tabindex=\"6\">\\n                     <option value=\"10\" >10 Entries\\n                     <option value=\"20\" >20 Entries\\n                     <option value=\"40\"  selected>40 Entries\\n                     <option value=\"80\" >80 Entries\\n                     <option value=\"100\" >100 Entries\\n                  </select>\\n               </td>\\n               <td style=\"text-align: middle;\"><input type=\"submit\" value=\"Search\"><br /><input type=\"submit\" onClick=\"this.form.type.value=\\'\\'\" value=\"Show All\"></td>\\n            </tr>\\n         </table>\\n      </form>\\n   </div>\\n<!-- END FILER DIV -->\\n   <div style=\"margin-top: 5px; margin-bottom: 5px;\">\\n      <form>\\n         <table border=\"0\" width=\"100%\">\\n            <tr>\\n               <td>Items 1 - 28&nbsp;&nbsp;<a href=\"/cgi-bin/browse-edgar?action=getcompany&amp;CIK=0000072971&amp;type=10-K%25&amp;dateb=20180101&amp;owner=include&amp;start=0&amp;count=40&amp;output=atom\"><img src=\"/images/rss-feed-icon-14x14.png\" alt=\"0000072971 Filings\" border=\"0\" align=\"top\" /> RSS Feed</a></td>\\n            </tr>\\n         </table>\\n      </form>\\n   </div>\\n   <div id=\"seriesDiv\" style=\"margin-top: 0px;\">\\n      <table class=\"tableFile2\" summary=\"Results\">\\n         <tr>\\n            <th width=\"7%\" scope=\"col\">Filings</th>\\n            <th width=\"10%\" scope=\"col\">Format</th>\\n            <th scope=\"col\">Description</th>\\n            <th width=\"10%\" scope=\"col\">Filing Date</th>\\n            <th width=\"15%\" scope=\"col\">File/Film Number</th>\\n         </tr>\\n<tr>\\n<td nowrap=\"nowrap\">10-K</td>\\n<td nowrap=\"nowrap\"><a href=\"/Archives/edgar/data/72971/000007297117000278/0000072971-17-000278-index.htm\" id=\"documentsbutton\">&nbsp;Documents</a>&nbsp; <a href=\"/cgi-bin/viewer?action=view&amp;cik=72971&amp;accession_number=0000072971-17-000278&amp;xbrl_type=v\" id=\"interactiveDataBtn\">&nbsp;Interactive Data</a></td>\\n<td class=\"small\" >Annual report [Section 13 and 15(d), not S-K Item 405]<br />Acc-no: 0000072971-17-000278&nbsp;(34 Act)&nbsp; Size: 94 MB            </td>\\n            <td>2017-03-01</td>\\n            <td nowrap=\"nowrap\"><a href=\"/cgi-bin/browse-edgar?action=getcompany&amp;filenum=001-02979&amp;owner=include&amp;count=40\">001-02979</a><br>17653045         </td>\\n         </tr>\\n<tr class=\"blueRow\">\\n<td nowrap=\"nowrap\">10-K</td>\\n<td nowrap=\"nowrap\"><a href=\"/Archives/edgar/data/72971/000007297116001045/0000072971-16-001045-index.htm\" id=\"documentsbutton\">&nbsp;Documents</a>&nbsp; <a href=\"/cgi-bin/viewer?action=view&amp;cik=72971&amp;accession_number=0000072971-16-001045&amp;xbrl_type=v\" id=\"interactiveDataBtn\">&nbsp;Interactive Data</a></td>\\n<td class=\"small\" >Annual report [Section 13 and 15(d), not S-K Item 405]<br />Acc-no: 0000072971-16-001045&nbsp;(34 Act)&nbsp; Size: 91 MB            </td>\\n            <td>2016-02-24</td>\\n            <td nowrap=\"nowrap\"><a href=\"/cgi-bin/browse-edgar?action=getcompany&amp;filenum=001-02979&amp;owner=include&amp;count=40\">001-02979</a><br>161451016         </td>\\n         </tr>\\n<tr>\\n<td nowrap=\"nowrap\">10-K</td>\\n<td nowrap=\"nowrap\"><a href=\"/Archives/edgar/data/72971/000007297115000449/0000072971-15-000449-index.htm\" id=\"documentsbutton\">&nbsp;Documents</a>&nbsp; <a href=\"/cgi-bin/viewer?action=view&amp;cik=72971&amp;accession_number=0000072971-15-000449&amp;xbrl_type=v\" id=\"interactiveDataBtn\">&nbsp;Interactive Data</a></td>\\n<td class=\"small\" >Annual report [Section 13 and 15(d), not S-K Item 405]<br />Acc-no: 0000072971-15-000449&nbsp;(34 Act)&nbsp; Size: 133 MB            </td>\\n            <td>2015-02-25</td>\\n            <td nowrap=\"nowrap\"><a href=\"/cgi-bin/browse-edgar?action=getcompany&amp;filenum=001-02979&amp;owner=include&amp;count=40\">001-02979</a><br>15646876         </td>\\n         </tr>\\n<tr class=\"blueRow\">\\n<td nowrap=\"nowrap\">10-K</td>\\n<td nowrap=\"nowrap\"><a href=\"/Archives/edgar/data/72971/000007297114000337/0000072971-14-000337-index.htm\" id=\"documentsbutton\">&nbsp;Documents</a>&nbsp; <a href=\"/cgi-bin/viewer?action=view&amp;cik=72971&amp;accession_number=0000072971-14-000337&amp;xbrl_type=v\" id=\"interactiveDataBtn\">&nbsp;Interactive Data</a></td>\\n<td class=\"small\" >Annual report [Section 13 and 15(d), not S-K Item 405]<br />Acc-no: 0000072971-14-000337&nbsp;(34 Act)&nbsp; Size: 96 MB            </td>\\n            <td>2014-02-26</td>\\n            <td nowrap=\"nowrap\"><a href=\"/cgi-bin/browse-edgar?action=getcompany&amp;filenum=001-02979&amp;owner=include&amp;count=40\">001-02979</a><br>14643412         </td>\\n         </tr>\\n<tr>\\n<td nowrap=\"nowrap\">10-K</td>\\n<td nowrap=\"nowrap\"><a href=\"/Archives/edgar/data/72971/000119312513078820/0001193125-13-078820-index.htm\" id=\"documentsbutton\">&nbsp;Documents</a>&nbsp; <a href=\"/cgi-bin/viewer?action=view&amp;cik=72971&amp;accession_number=0001193125-13-078820&amp;xbrl_type=v\" id=\"interactiveDataBtn\">&nbsp;Interactive Data</a></td>\\n<td class=\"small\" >Annual report [Section 13 and 15(d), not S-K Item 405]<br />Acc-no: 0001193125-13-078820&nbsp;(34 Act)&nbsp; Size: 73 MB            </td>\\n            <td>2013-02-27</td>\\n            <td nowrap=\"nowrap\"><a href=\"/cgi-bin/browse-edgar?action=getcompany&amp;filenum=001-02979&amp;owner=include&amp;count=40\">001-02979</a><br>13645381         </td>\\n         </tr>\\n<tr class=\"blueRow\">\\n<td nowrap=\"nowrap\">10-K</td>\\n<td nowrap=\"nowrap\"><a href=\"/Archives/edgar/data/72971/000119312512084528/0001193125-12-084528-index.htm\" id=\"documentsbutton\">&nbsp;Documents</a>&nbsp; <a href=\"/cgi-bin/viewer?action=view&amp;cik=72971&amp;accession_number=0001193125-12-084528&amp;xbrl_type=v\" id=\"interactiveDataBtn\">&nbsp;Interactive Data</a></td>\\n<td class=\"small\" >Annual report [Section 13 and 15(d), not S-K Item 405]<br />Acc-no: 0001193125-12-084528&nbsp;(34 Act)&nbsp; Size: 71 MB            </td>\\n            <td>2012-02-28</td>\\n            <td nowrap=\"nowrap\"><a href=\"/cgi-bin/browse-edgar?action=getcompany&amp;filenum=001-02979&amp;owner=include&amp;count=40\">001-02979</a><br>12646021         </td>\\n         </tr>\\n<tr>\\n<td nowrap=\"nowrap\">10-K</td>\\n<td nowrap=\"nowrap\"><a href=\"/Archives/edgar/data/72971/000095012311018541/0000950123-11-018541-index.htm\" id=\"documentsbutton\">&nbsp;Documents</a>&nbsp; <a href=\"/cgi-bin/viewer?action=view&amp;cik=72971&amp;accession_number=0000950123-11-018541&amp;xbrl_type=v\" id=\"interactiveDataBtn\">&nbsp;Interactive Data</a></td>\\n<td class=\"small\" >Annual report [Section 13 and 15(d), not S-K Item 405]<br />Acc-no: 0000950123-11-018541&nbsp;(34 Act)&nbsp; Size: 71 MB            </td>\\n            <td>2011-02-25</td>\\n            <td nowrap=\"nowrap\"><a href=\"/cgi-bin/browse-edgar?action=getcompany&amp;filenum=001-02979&amp;owner=include&amp;count=40\">001-02979</a><br>11640324         </td>\\n         </tr>\\n<tr class=\"blueRow\">\\n<td nowrap=\"nowrap\">10-K</td>\\n<td nowrap=\"nowrap\"><a href=\"/Archives/edgar/data/72971/000095012310017877/0000950123-10-017877-index.htm\" id=\"documentsbutton\">&nbsp;Documents</a>&nbsp; <a href=\"/cgi-bin/viewer?action=view&amp;cik=72971&amp;accession_number=0000950123-10-017877&amp;xbrl_type=v\" id=\"interactiveDataBtn\">&nbsp;Interactive Data</a></td>\\n<td class=\"small\" >Annual report [Section 13 and 15(d), not S-K Item 405]<br />Acc-no: 0000950123-10-017877&nbsp;(34 Act)&nbsp; Size: 13 MB            </td>\\n            <td>2010-02-26</td>\\n            <td nowrap=\"nowrap\"><a href=\"/cgi-bin/browse-edgar?action=getcompany&amp;filenum=001-02979&amp;owner=include&amp;count=40\">001-02979</a><br>10637802         </td>\\n         </tr>\\n<tr>\\n<td nowrap=\"nowrap\">10-K</td>\\n<td nowrap=\"nowrap\"><a href=\"/Archives/edgar/data/72971/000095013409003967/0000950134-09-003967-index.htm\" id=\"documentsbutton\">&nbsp;Documents</a></td>\\n<td class=\"small\" >Annual report [Section 13 and 15(d), not S-K Item 405]<br />Acc-no: 0000950134-09-003967&nbsp;(34 Act)&nbsp; Size: 3 MB            </td>\\n            <td>2009-02-27</td>\\n            <td nowrap=\"nowrap\"><a href=\"/cgi-bin/browse-edgar?action=getcompany&amp;filenum=001-02979&amp;owner=include&amp;count=40\">001-02979</a><br>09641092         </td>\\n         </tr>\\n<tr class=\"blueRow\">\\n<td nowrap=\"nowrap\">10-K</td>\\n<td nowrap=\"nowrap\"><a href=\"/Archives/edgar/data/72971/000095013408003822/0000950134-08-003822-index.htm\" id=\"documentsbutton\">&nbsp;Documents</a></td>\\n<td class=\"small\" >Annual report [Section 13 and 15(d), not S-K Item 405]<br />Acc-no: 0000950134-08-003822&nbsp;(34 Act)&nbsp; Size: 3 MB            </td>\\n            <td>2008-02-29</td>\\n            <td nowrap=\"nowrap\"><a href=\"/cgi-bin/browse-edgar?action=getcompany&amp;filenum=001-02979&amp;owner=include&amp;count=40\">001-02979</a><br>08654598         </td>\\n         </tr>\\n<tr>\\n<td nowrap=\"nowrap\">10-K</td>\\n<td nowrap=\"nowrap\"><a href=\"/Archives/edgar/data/72971/000095013407004518/0000950134-07-004518-index.htm\" id=\"documentsbutton\">&nbsp;Documents</a></td>\\n<td class=\"small\" >Annual report [Section 13 and 15(d), not S-K Item 405]<br />Acc-no: 0000950134-07-004518&nbsp;(34 Act)&nbsp; Size: 2 MB            </td>\\n            <td>2007-03-01</td>\\n            <td nowrap=\"nowrap\"><a href=\"/cgi-bin/browse-edgar?action=getcompany&amp;filenum=001-02979&amp;owner=include&amp;count=40\">001-02979</a><br>07661033         </td>\\n         </tr>\\n<tr class=\"blueRow\">\\n<td nowrap=\"nowrap\">10-K</td>\\n<td nowrap=\"nowrap\"><a href=\"/Archives/edgar/data/72971/000095014906000083/0000950149-06-000083-index.htm\" id=\"documentsbutton\">&nbsp;Documents</a></td>\\n<td class=\"small\" >Annual report [Section 13 and 15(d), not S-K Item 405]<br />Acc-no: 0000950149-06-000083&nbsp;(34 Act)&nbsp; Size: 2 MB            </td>\\n            <td>2006-03-09</td>\\n            <td nowrap=\"nowrap\"><a href=\"/cgi-bin/browse-edgar?action=getcompany&amp;filenum=001-02979&amp;owner=include&amp;count=40\">001-02979</a><br>06676737         </td>\\n         </tr>\\n<tr>\\n<td nowrap=\"nowrap\">10-K/A</td>\\n<td nowrap=\"nowrap\"><a href=\"/Archives/edgar/data/72971/000095013405005350/0000950134-05-005350-index.htm\" id=\"documentsbutton\">&nbsp;Documents</a></td>\\n<td class=\"small\" ><b>[Amend]</b> Annual report [Section 13 and 15(d), not S-K Item 405]<br />Acc-no: 0000950134-05-005350&nbsp;(34 Act)&nbsp; Size: 39 KB            </td>\\n            <td>2005-03-17</td>\\n            <td nowrap=\"nowrap\"><a href=\"/cgi-bin/browse-edgar?action=getcompany&amp;filenum=001-02979&amp;owner=include&amp;count=40\">001-02979</a><br>05688322         </td>\\n         </tr>\\n<tr class=\"blueRow\">\\n<td nowrap=\"nowrap\">10-K</td>\\n<td nowrap=\"nowrap\"><a href=\"/Archives/edgar/data/72971/000095013405004623/0000950134-05-004623-index.htm\" id=\"documentsbutton\">&nbsp;Documents</a></td>\\n<td class=\"small\" >Annual report [Section 13 and 15(d), not S-K Item 405]<br />Acc-no: 0000950134-05-004623&nbsp;(34 Act)&nbsp; Size: 2 MB            </td>\\n            <td>2005-03-10</td>\\n            <td nowrap=\"nowrap\"><a href=\"/cgi-bin/browse-edgar?action=getcompany&amp;filenum=001-02979&amp;owner=include&amp;count=40\">001-02979</a><br>05673039         </td>\\n         </tr>\\n<tr>\\n<td nowrap=\"nowrap\">10-K</td>\\n<td nowrap=\"nowrap\"><a href=\"/Archives/edgar/data/72971/000095013404003387/0000950134-04-003387-index.htm\" id=\"documentsbutton\">&nbsp;Documents</a></td>\\n<td class=\"small\" >Annual report [Section 13 and 15(d), not S-K Item 405]<br />Acc-no: 0000950134-04-003387 Size: 2 MB            </td>\\n            <td>2004-03-12</td>\\n            <td nowrap=\"nowrap\"><a href=\"/cgi-bin/browse-edgar?action=getcompany&amp;filenum=001-02979&amp;owner=include&amp;count=40\">001-02979</a><br>04666002         </td>\\n         </tr>\\n<tr class=\"blueRow\">\\n<td nowrap=\"nowrap\">10-K/A</td>\\n<td nowrap=\"nowrap\"><a href=\"/Archives/edgar/data/72971/000095014904000152/0000950149-04-000152-index.htm\" id=\"documentsbutton\">&nbsp;Documents</a></td>\\n<td class=\"small\" ><b>[Amend]</b> Annual report [Section 13 and 15(d), not S-K Item 405]<br />Acc-no: 0000950149-04-000152 Size: 2 MB            </td>\\n            <td>2004-01-16</td>\\n            <td nowrap=\"nowrap\"><a href=\"/cgi-bin/browse-edgar?action=getcompany&amp;filenum=001-02979&amp;owner=include&amp;count=40\">001-02979</a><br>04529956         </td>\\n         </tr>\\n<tr>\\n<td nowrap=\"nowrap\">10-K</td>\\n<td nowrap=\"nowrap\"><a href=\"/Archives/edgar/data/72971/000104746903008749/0001047469-03-008749-index.htm\" id=\"documentsbutton\">&nbsp;Documents</a></td>\\n<td class=\"small\" >Annual report [Section 13 and 15(d), not S-K Item 405]<br />Acc-no: 0001047469-03-008749 Size: 2 MB            </td>\\n            <td>2003-03-14</td>\\n            <td nowrap=\"nowrap\"><a href=\"/cgi-bin/browse-edgar?action=getcompany&amp;filenum=001-02979&amp;owner=include&amp;count=40\">001-02979</a><br>03603800         </td>\\n         </tr>\\n<tr class=\"blueRow\">\\n<td nowrap=\"nowrap\">10-K</td>\\n<td nowrap=\"nowrap\"><a href=\"/Archives/edgar/data/72971/000091205702010174/0000912057-02-010174-index.htm\" id=\"documentsbutton\">&nbsp;Documents</a></td>\\n<td class=\"small\" >Annual report [Section 13 and 15(d), not S-K Item 405]<br />Acc-no: 0000912057-02-010174 Size: 635 KB            </td>\\n            <td>2002-03-15</td>\\n            <td nowrap=\"nowrap\"><a href=\"/cgi-bin/browse-edgar?action=getcompany&amp;filenum=001-02979&amp;owner=include&amp;count=40\">001-02979</a><br>02576813         </td>\\n         </tr>\\n<tr>\\n<td nowrap=\"nowrap\">10-K</td>\\n<td nowrap=\"nowrap\"><a href=\"/Archives/edgar/data/72971/000091205701504042/0000912057-01-504042-index.htm\" id=\"documentsbutton\">&nbsp;Documents</a></td>\\n<td class=\"small\" >Annual report [Section 13 and 15(d), not S-K Item 405]<br />Acc-no: 0000912057-01-504042 Size: 657 KB            </td>\\n            <td>2001-03-16</td>\\n            <td nowrap=\"nowrap\"><a href=\"/cgi-bin/browse-edgar?action=getcompany&amp;filenum=001-02979&amp;owner=include&amp;count=40\">001-02979</a><br>1570235         </td>\\n         </tr>\\n<tr class=\"blueRow\">\\n<td nowrap=\"nowrap\">10-K</td>\\n<td nowrap=\"nowrap\"><a href=\"/Archives/edgar/data/72971/0000912057-00-012168-index.html\" id=\"documentsbutton\">&nbsp;Documents</a></td>\\n<td class=\"small\" >Annual report [Section 13 and 15(d), not S-K Item 405]<br />Acc-no: 0000912057-00-012168 Size: 714 KB            </td>\\n            <td>2000-03-17</td>\\n            <td nowrap=\"nowrap\"><a href=\"/cgi-bin/browse-edgar?action=getcompany&amp;filenum=001-02979&amp;owner=include&amp;count=40\">001-02979</a><br>572372         </td>\\n         </tr>\\n<tr>\\n<td nowrap=\"nowrap\">10-K/A</td>\\n<td nowrap=\"nowrap\"><a href=\"/Archives/edgar/data/72971/0001047469-99-010910-index.html\" id=\"documentsbutton\">&nbsp;Documents</a></td>\\n<td class=\"small\" ><b>[Amend]</b> Annual report [Section 13 and 15(d), not S-K Item 405]<br />Acc-no: 0001047469-99-010910 Size: 4 KB            </td>\\n            <td>1999-03-23</td>\\n            <td nowrap=\"nowrap\"><a href=\"/cgi-bin/browse-edgar?action=getcompany&amp;filenum=001-02979&amp;owner=include&amp;count=40\">001-02979</a><br>99570944         </td>\\n         </tr>\\n<tr class=\"blueRow\">\\n<td nowrap=\"nowrap\">10-K405</td>\\n<td nowrap=\"nowrap\"><a href=\"/Archives/edgar/data/72971/0001047469-99-010171-index.html\" id=\"documentsbutton\">&nbsp;Documents</a></td>\\n<td class=\"small\" >Annual report [Sections 13 and 15(d), S-K Item 405]<br />Acc-no: 0001047469-99-010171 Size: 921 KB            </td>\\n            <td>1999-03-17</td>\\n            <td nowrap=\"nowrap\"><a href=\"/cgi-bin/browse-edgar?action=getcompany&amp;filenum=001-02979&amp;owner=include&amp;count=40\">001-02979</a><br>99567422         </td>\\n         </tr>\\n<tr>\\n<td nowrap=\"nowrap\">10-K</td>\\n<td nowrap=\"nowrap\"><a href=\"/Archives/edgar/data/72971/0001045969-98-000259-index.html\" id=\"documentsbutton\">&nbsp;Documents</a></td>\\n<td class=\"small\" >Annual report [Section 13 and 15(d), not S-K Item 405]<br />Acc-no: 0001045969-98-000259 Size: 684 KB            </td>\\n            <td>1998-02-27</td>\\n            <td nowrap=\"nowrap\"><a href=\"/cgi-bin/browse-edgar?action=getcompany&amp;filenum=001-02979&amp;owner=include&amp;count=40\">001-02979</a><br>98551844         </td>\\n         </tr>\\n<tr class=\"blueRow\">\\n<td nowrap=\"nowrap\">10-K</td>\\n<td nowrap=\"nowrap\"><a href=\"/Archives/edgar/data/72971/0000950109-97-001905-index.html\" id=\"documentsbutton\">&nbsp;Documents</a></td>\\n<td class=\"small\" >Annual report [Section 13 and 15(d), not S-K Item 405]<br />Acc-no: 0000950109-97-001905 Size: 560 KB            </td>\\n            <td>1997-03-04</td>\\n            <td nowrap=\"nowrap\"><a href=\"/cgi-bin/browse-edgar?action=getcompany&amp;filenum=000-20565&amp;owner=include&amp;count=40\">000-20565</a><br>97550132         </td>\\n         </tr>\\n<tr>\\n<td nowrap=\"nowrap\">10-K</td>\\n<td nowrap=\"nowrap\"><a href=\"/Archives/edgar/data/72971/0000950131-96-000962-index.html\" id=\"documentsbutton\">&nbsp;Documents</a></td>\\n<td class=\"small\" >Annual report [Section 13 and 15(d), not S-K Item 405]<br />Acc-no: 0000950131-96-000962 Size: 526 KB            </td>\\n            <td>1996-03-07</td>\\n            <td nowrap=\"nowrap\"><a href=\"/cgi-bin/browse-edgar?action=getcompany&amp;filenum=000-20565&amp;owner=include&amp;count=40\">000-20565</a><br>96532352         </td>\\n         </tr>\\n<tr class=\"blueRow\">\\n<td nowrap=\"nowrap\">10-K</td>\\n<td nowrap=\"nowrap\"><a href=\"/Archives/edgar/data/72971/0000950131-95-000611-index.html\" id=\"documentsbutton\">&nbsp;Documents</a></td>\\n<td class=\"small\" >Annual report [Section 13 and 15(d), not S-K Item 405]<br />Acc-no: 0000950131-95-000611 Size: 463 KB            </td>\\n            <td>1995-03-16</td>\\n            <td nowrap=\"nowrap\"><a href=\"/cgi-bin/browse-edgar?action=getcompany&amp;filenum=001-02979&amp;owner=include&amp;count=40\">001-02979</a><br>95521208         </td>\\n         </tr>\\n<tr>\\n<td nowrap=\"nowrap\">10-K/A</td>\\n<td nowrap=\"nowrap\"><a href=\"/Archives/edgar/data/72971/0000072971-94-000005-index.html\" id=\"documentsbutton\">&nbsp;Documents</a></td>\\n<td class=\"small\" ><b>[Amend]</b> Annual report [Section 13 and 15(d), not S-K Item 405]<br />Acc-no: 0000072971-94-000005 Size: 150 KB            </td>\\n            <td>1994-05-13</td>\\n            <td nowrap=\"nowrap\"><a href=\"/cgi-bin/browse-edgar?action=getcompany&amp;filenum=001-02979&amp;owner=include&amp;count=40\">001-02979</a><br>94528320         </td>\\n         </tr>\\n<tr class=\"blueRow\">\\n<td nowrap=\"nowrap\">10-K</td>\\n<td nowrap=\"nowrap\"><a href=\"/Archives/edgar/data/72971/0000072971-94-000003-index.html\" id=\"documentsbutton\">&nbsp;Documents</a></td>\\n<td class=\"small\" >Annual report [Section 13 and 15(d), not S-K Item 405]<br />Acc-no: 0000072971-94-000003 Size: 384 KB            </td>\\n            <td>1994-03-08</td>\\n            <td nowrap=\"nowrap\"><a href=\"/cgi-bin/browse-edgar?action=getcompany&amp;filenum=001-02979&amp;owner=include&amp;count=40\">001-02979</a><br>94515031         </td>\\n         </tr>\\n      </table>\\n   </div>\\n</div>\\n\\n<!-- BEGIN FOOTER -->\\n<div id=\"footer\">\\n  <div class=\"currentURL\">https://www.sec.gov/cgi-bin/browse-edgar</div>\\n  <div class=\"links\"><a href=\"/index.htm\">Home</a> | <a href=\"/edgar/searchedgar/webusers.htm\">Search the Next-Generation EDGAR System</a> | <a href=\"javascript:history.back()\">Previous Page</a></div>\\n  <div class=\"modified\">Modified 07/18/2014</div>\\n</div>\\n<!-- END FOOTER -->\\n\\n</body>\\n</html>\\n'"
      ]
     },
     "execution_count": 5,
     "metadata": {},
     "output_type": "execute_result"
    }
   ],
   "source": [
    "edgar_str"
   ]
  },
  {
   "cell_type": "code",
   "execution_count": 6,
   "metadata": {},
   "outputs": [
    {
     "name": "stdout",
     "output_type": "stream",
     "text": [
      "0\n",
      "5\n",
      "5\n",
      "5\n",
      "5\n",
      "5\n",
      "5\n",
      "5\n",
      "5\n",
      "5\n",
      "5\n",
      "5\n",
      "5\n",
      "5\n",
      "5\n",
      "5\n",
      "5\n",
      "5\n",
      "5\n",
      "5\n",
      "5\n",
      "5\n",
      "5\n",
      "5\n",
      "5\n",
      "5\n",
      "5\n",
      "5\n",
      "5\n"
     ]
    }
   ],
   "source": [
    "# Find the document link\n",
    "doc_link = ''\n",
    "soup = BeautifulSoup(edgar_str, 'html.parser')\n",
    "table_tag = soup.find('table', class_='tableFile2')\n",
    "rows = table_tag.find_all('tr')\n",
    "for row in rows:\n",
    "    cells = row.find_all('td')\n",
    "    print(len(cells))\n",
    "    if len(cells) > 3:\n",
    "        if '2015' in cells[3].text:\n",
    "            doc_link = 'https://www.sec.gov' + cells[1].a['href']\n",
    "\n",
    "\n",
    "\n"
   ]
  },
  {
   "cell_type": "code",
   "execution_count": 7,
   "metadata": {},
   "outputs": [
    {
     "data": {
      "text/plain": [
       "'https://www.sec.gov/Archives/edgar/data/72971/000007297115000449/0000072971-15-000449-index.htm'"
      ]
     },
     "execution_count": 7,
     "metadata": {},
     "output_type": "execute_result"
    }
   ],
   "source": [
    "doc_link"
   ]
  },
  {
   "cell_type": "code",
   "execution_count": 8,
   "metadata": {},
   "outputs": [],
   "source": [
    "# Exit if document link couldn't be found\n",
    "if doc_link == '':\n",
    "    print(\"Couldn't find the document link\")\n",
    "    sys.exit()"
   ]
  },
  {
   "cell_type": "code",
   "execution_count": 9,
   "metadata": {},
   "outputs": [
    {
     "data": {
      "text/plain": [
       "[<tr>\n",
       " <th scope=\"col\" width=\"7%\">Filings</th>\n",
       " <th scope=\"col\" width=\"10%\">Format</th>\n",
       " <th scope=\"col\">Description</th>\n",
       " <th scope=\"col\" width=\"10%\">Filing Date</th>\n",
       " <th scope=\"col\" width=\"15%\">File/Film Number</th>\n",
       " </tr>, <tr>\n",
       " <td nowrap=\"nowrap\">10-K</td>\n",
       " <td nowrap=\"nowrap\"><a href=\"/Archives/edgar/data/72971/000007297117000278/0000072971-17-000278-index.htm\" id=\"documentsbutton\"> Documents</a>  <a href=\"/cgi-bin/viewer?action=view&amp;cik=72971&amp;accession_number=0000072971-17-000278&amp;xbrl_type=v\" id=\"interactiveDataBtn\"> Interactive Data</a></td>\n",
       " <td class=\"small\">Annual report [Section 13 and 15(d), not S-K Item 405]<br/>Acc-no: 0000072971-17-000278 (34 Act)  Size: 94 MB            </td>\n",
       " <td>2017-03-01</td>\n",
       " <td nowrap=\"nowrap\"><a href=\"/cgi-bin/browse-edgar?action=getcompany&amp;filenum=001-02979&amp;owner=include&amp;count=40\">001-02979</a><br/>17653045         </td>\n",
       " </tr>, <tr class=\"blueRow\">\n",
       " <td nowrap=\"nowrap\">10-K</td>\n",
       " <td nowrap=\"nowrap\"><a href=\"/Archives/edgar/data/72971/000007297116001045/0000072971-16-001045-index.htm\" id=\"documentsbutton\"> Documents</a>  <a href=\"/cgi-bin/viewer?action=view&amp;cik=72971&amp;accession_number=0000072971-16-001045&amp;xbrl_type=v\" id=\"interactiveDataBtn\"> Interactive Data</a></td>\n",
       " <td class=\"small\">Annual report [Section 13 and 15(d), not S-K Item 405]<br>Acc-no: 0000072971-16-001045 (34 Act)  Size: 91 MB            </br></td>\n",
       " <td>2016-02-24</td>\n",
       " <td nowrap=\"nowrap\"><a href=\"/cgi-bin/browse-edgar?action=getcompany&amp;filenum=001-02979&amp;owner=include&amp;count=40\">001-02979</a><br/>161451016         </td>\n",
       " </tr>, <tr>\n",
       " <td nowrap=\"nowrap\">10-K</td>\n",
       " <td nowrap=\"nowrap\"><a href=\"/Archives/edgar/data/72971/000007297115000449/0000072971-15-000449-index.htm\" id=\"documentsbutton\"> Documents</a>  <a href=\"/cgi-bin/viewer?action=view&amp;cik=72971&amp;accession_number=0000072971-15-000449&amp;xbrl_type=v\" id=\"interactiveDataBtn\"> Interactive Data</a></td>\n",
       " <td class=\"small\">Annual report [Section 13 and 15(d), not S-K Item 405]<br>Acc-no: 0000072971-15-000449 (34 Act)  Size: 133 MB            </br></td>\n",
       " <td>2015-02-25</td>\n",
       " <td nowrap=\"nowrap\"><a href=\"/cgi-bin/browse-edgar?action=getcompany&amp;filenum=001-02979&amp;owner=include&amp;count=40\">001-02979</a><br/>15646876         </td>\n",
       " </tr>, <tr class=\"blueRow\">\n",
       " <td nowrap=\"nowrap\">10-K</td>\n",
       " <td nowrap=\"nowrap\"><a href=\"/Archives/edgar/data/72971/000007297114000337/0000072971-14-000337-index.htm\" id=\"documentsbutton\"> Documents</a>  <a href=\"/cgi-bin/viewer?action=view&amp;cik=72971&amp;accession_number=0000072971-14-000337&amp;xbrl_type=v\" id=\"interactiveDataBtn\"> Interactive Data</a></td>\n",
       " <td class=\"small\">Annual report [Section 13 and 15(d), not S-K Item 405]<br>Acc-no: 0000072971-14-000337 (34 Act)  Size: 96 MB            </br></td>\n",
       " <td>2014-02-26</td>\n",
       " <td nowrap=\"nowrap\"><a href=\"/cgi-bin/browse-edgar?action=getcompany&amp;filenum=001-02979&amp;owner=include&amp;count=40\">001-02979</a><br/>14643412         </td>\n",
       " </tr>, <tr>\n",
       " <td nowrap=\"nowrap\">10-K</td>\n",
       " <td nowrap=\"nowrap\"><a href=\"/Archives/edgar/data/72971/000119312513078820/0001193125-13-078820-index.htm\" id=\"documentsbutton\"> Documents</a>  <a href=\"/cgi-bin/viewer?action=view&amp;cik=72971&amp;accession_number=0001193125-13-078820&amp;xbrl_type=v\" id=\"interactiveDataBtn\"> Interactive Data</a></td>\n",
       " <td class=\"small\">Annual report [Section 13 and 15(d), not S-K Item 405]<br>Acc-no: 0001193125-13-078820 (34 Act)  Size: 73 MB            </br></td>\n",
       " <td>2013-02-27</td>\n",
       " <td nowrap=\"nowrap\"><a href=\"/cgi-bin/browse-edgar?action=getcompany&amp;filenum=001-02979&amp;owner=include&amp;count=40\">001-02979</a><br/>13645381         </td>\n",
       " </tr>, <tr class=\"blueRow\">\n",
       " <td nowrap=\"nowrap\">10-K</td>\n",
       " <td nowrap=\"nowrap\"><a href=\"/Archives/edgar/data/72971/000119312512084528/0001193125-12-084528-index.htm\" id=\"documentsbutton\"> Documents</a>  <a href=\"/cgi-bin/viewer?action=view&amp;cik=72971&amp;accession_number=0001193125-12-084528&amp;xbrl_type=v\" id=\"interactiveDataBtn\"> Interactive Data</a></td>\n",
       " <td class=\"small\">Annual report [Section 13 and 15(d), not S-K Item 405]<br>Acc-no: 0001193125-12-084528 (34 Act)  Size: 71 MB            </br></td>\n",
       " <td>2012-02-28</td>\n",
       " <td nowrap=\"nowrap\"><a href=\"/cgi-bin/browse-edgar?action=getcompany&amp;filenum=001-02979&amp;owner=include&amp;count=40\">001-02979</a><br/>12646021         </td>\n",
       " </tr>, <tr>\n",
       " <td nowrap=\"nowrap\">10-K</td>\n",
       " <td nowrap=\"nowrap\"><a href=\"/Archives/edgar/data/72971/000095012311018541/0000950123-11-018541-index.htm\" id=\"documentsbutton\"> Documents</a>  <a href=\"/cgi-bin/viewer?action=view&amp;cik=72971&amp;accession_number=0000950123-11-018541&amp;xbrl_type=v\" id=\"interactiveDataBtn\"> Interactive Data</a></td>\n",
       " <td class=\"small\">Annual report [Section 13 and 15(d), not S-K Item 405]<br>Acc-no: 0000950123-11-018541 (34 Act)  Size: 71 MB            </br></td>\n",
       " <td>2011-02-25</td>\n",
       " <td nowrap=\"nowrap\"><a href=\"/cgi-bin/browse-edgar?action=getcompany&amp;filenum=001-02979&amp;owner=include&amp;count=40\">001-02979</a><br/>11640324         </td>\n",
       " </tr>, <tr class=\"blueRow\">\n",
       " <td nowrap=\"nowrap\">10-K</td>\n",
       " <td nowrap=\"nowrap\"><a href=\"/Archives/edgar/data/72971/000095012310017877/0000950123-10-017877-index.htm\" id=\"documentsbutton\"> Documents</a>  <a href=\"/cgi-bin/viewer?action=view&amp;cik=72971&amp;accession_number=0000950123-10-017877&amp;xbrl_type=v\" id=\"interactiveDataBtn\"> Interactive Data</a></td>\n",
       " <td class=\"small\">Annual report [Section 13 and 15(d), not S-K Item 405]<br>Acc-no: 0000950123-10-017877 (34 Act)  Size: 13 MB            </br></td>\n",
       " <td>2010-02-26</td>\n",
       " <td nowrap=\"nowrap\"><a href=\"/cgi-bin/browse-edgar?action=getcompany&amp;filenum=001-02979&amp;owner=include&amp;count=40\">001-02979</a><br/>10637802         </td>\n",
       " </tr>, <tr>\n",
       " <td nowrap=\"nowrap\">10-K</td>\n",
       " <td nowrap=\"nowrap\"><a href=\"/Archives/edgar/data/72971/000095013409003967/0000950134-09-003967-index.htm\" id=\"documentsbutton\"> Documents</a></td>\n",
       " <td class=\"small\">Annual report [Section 13 and 15(d), not S-K Item 405]<br>Acc-no: 0000950134-09-003967 (34 Act)  Size: 3 MB            </br></td>\n",
       " <td>2009-02-27</td>\n",
       " <td nowrap=\"nowrap\"><a href=\"/cgi-bin/browse-edgar?action=getcompany&amp;filenum=001-02979&amp;owner=include&amp;count=40\">001-02979</a><br/>09641092         </td>\n",
       " </tr>, <tr class=\"blueRow\">\n",
       " <td nowrap=\"nowrap\">10-K</td>\n",
       " <td nowrap=\"nowrap\"><a href=\"/Archives/edgar/data/72971/000095013408003822/0000950134-08-003822-index.htm\" id=\"documentsbutton\"> Documents</a></td>\n",
       " <td class=\"small\">Annual report [Section 13 and 15(d), not S-K Item 405]<br>Acc-no: 0000950134-08-003822 (34 Act)  Size: 3 MB            </br></td>\n",
       " <td>2008-02-29</td>\n",
       " <td nowrap=\"nowrap\"><a href=\"/cgi-bin/browse-edgar?action=getcompany&amp;filenum=001-02979&amp;owner=include&amp;count=40\">001-02979</a><br/>08654598         </td>\n",
       " </tr>, <tr>\n",
       " <td nowrap=\"nowrap\">10-K</td>\n",
       " <td nowrap=\"nowrap\"><a href=\"/Archives/edgar/data/72971/000095013407004518/0000950134-07-004518-index.htm\" id=\"documentsbutton\"> Documents</a></td>\n",
       " <td class=\"small\">Annual report [Section 13 and 15(d), not S-K Item 405]<br>Acc-no: 0000950134-07-004518 (34 Act)  Size: 2 MB            </br></td>\n",
       " <td>2007-03-01</td>\n",
       " <td nowrap=\"nowrap\"><a href=\"/cgi-bin/browse-edgar?action=getcompany&amp;filenum=001-02979&amp;owner=include&amp;count=40\">001-02979</a><br/>07661033         </td>\n",
       " </tr>, <tr class=\"blueRow\">\n",
       " <td nowrap=\"nowrap\">10-K</td>\n",
       " <td nowrap=\"nowrap\"><a href=\"/Archives/edgar/data/72971/000095014906000083/0000950149-06-000083-index.htm\" id=\"documentsbutton\"> Documents</a></td>\n",
       " <td class=\"small\">Annual report [Section 13 and 15(d), not S-K Item 405]<br>Acc-no: 0000950149-06-000083 (34 Act)  Size: 2 MB            </br></td>\n",
       " <td>2006-03-09</td>\n",
       " <td nowrap=\"nowrap\"><a href=\"/cgi-bin/browse-edgar?action=getcompany&amp;filenum=001-02979&amp;owner=include&amp;count=40\">001-02979</a><br/>06676737         </td>\n",
       " </tr>, <tr>\n",
       " <td nowrap=\"nowrap\">10-K/A</td>\n",
       " <td nowrap=\"nowrap\"><a href=\"/Archives/edgar/data/72971/000095013405005350/0000950134-05-005350-index.htm\" id=\"documentsbutton\"> Documents</a></td>\n",
       " <td class=\"small\"><b>[Amend]</b> Annual report [Section 13 and 15(d), not S-K Item 405]<br>Acc-no: 0000950134-05-005350 (34 Act)  Size: 39 KB            </br></td>\n",
       " <td>2005-03-17</td>\n",
       " <td nowrap=\"nowrap\"><a href=\"/cgi-bin/browse-edgar?action=getcompany&amp;filenum=001-02979&amp;owner=include&amp;count=40\">001-02979</a><br/>05688322         </td>\n",
       " </tr>, <tr class=\"blueRow\">\n",
       " <td nowrap=\"nowrap\">10-K</td>\n",
       " <td nowrap=\"nowrap\"><a href=\"/Archives/edgar/data/72971/000095013405004623/0000950134-05-004623-index.htm\" id=\"documentsbutton\"> Documents</a></td>\n",
       " <td class=\"small\">Annual report [Section 13 and 15(d), not S-K Item 405]<br>Acc-no: 0000950134-05-004623 (34 Act)  Size: 2 MB            </br></td>\n",
       " <td>2005-03-10</td>\n",
       " <td nowrap=\"nowrap\"><a href=\"/cgi-bin/browse-edgar?action=getcompany&amp;filenum=001-02979&amp;owner=include&amp;count=40\">001-02979</a><br/>05673039         </td>\n",
       " </tr>, <tr>\n",
       " <td nowrap=\"nowrap\">10-K</td>\n",
       " <td nowrap=\"nowrap\"><a href=\"/Archives/edgar/data/72971/000095013404003387/0000950134-04-003387-index.htm\" id=\"documentsbutton\"> Documents</a></td>\n",
       " <td class=\"small\">Annual report [Section 13 and 15(d), not S-K Item 405]<br>Acc-no: 0000950134-04-003387 Size: 2 MB            </br></td>\n",
       " <td>2004-03-12</td>\n",
       " <td nowrap=\"nowrap\"><a href=\"/cgi-bin/browse-edgar?action=getcompany&amp;filenum=001-02979&amp;owner=include&amp;count=40\">001-02979</a><br/>04666002         </td>\n",
       " </tr>, <tr class=\"blueRow\">\n",
       " <td nowrap=\"nowrap\">10-K/A</td>\n",
       " <td nowrap=\"nowrap\"><a href=\"/Archives/edgar/data/72971/000095014904000152/0000950149-04-000152-index.htm\" id=\"documentsbutton\"> Documents</a></td>\n",
       " <td class=\"small\"><b>[Amend]</b> Annual report [Section 13 and 15(d), not S-K Item 405]<br>Acc-no: 0000950149-04-000152 Size: 2 MB            </br></td>\n",
       " <td>2004-01-16</td>\n",
       " <td nowrap=\"nowrap\"><a href=\"/cgi-bin/browse-edgar?action=getcompany&amp;filenum=001-02979&amp;owner=include&amp;count=40\">001-02979</a><br/>04529956         </td>\n",
       " </tr>, <tr>\n",
       " <td nowrap=\"nowrap\">10-K</td>\n",
       " <td nowrap=\"nowrap\"><a href=\"/Archives/edgar/data/72971/000104746903008749/0001047469-03-008749-index.htm\" id=\"documentsbutton\"> Documents</a></td>\n",
       " <td class=\"small\">Annual report [Section 13 and 15(d), not S-K Item 405]<br>Acc-no: 0001047469-03-008749 Size: 2 MB            </br></td>\n",
       " <td>2003-03-14</td>\n",
       " <td nowrap=\"nowrap\"><a href=\"/cgi-bin/browse-edgar?action=getcompany&amp;filenum=001-02979&amp;owner=include&amp;count=40\">001-02979</a><br/>03603800         </td>\n",
       " </tr>, <tr class=\"blueRow\">\n",
       " <td nowrap=\"nowrap\">10-K</td>\n",
       " <td nowrap=\"nowrap\"><a href=\"/Archives/edgar/data/72971/000091205702010174/0000912057-02-010174-index.htm\" id=\"documentsbutton\"> Documents</a></td>\n",
       " <td class=\"small\">Annual report [Section 13 and 15(d), not S-K Item 405]<br>Acc-no: 0000912057-02-010174 Size: 635 KB            </br></td>\n",
       " <td>2002-03-15</td>\n",
       " <td nowrap=\"nowrap\"><a href=\"/cgi-bin/browse-edgar?action=getcompany&amp;filenum=001-02979&amp;owner=include&amp;count=40\">001-02979</a><br/>02576813         </td>\n",
       " </tr>, <tr>\n",
       " <td nowrap=\"nowrap\">10-K</td>\n",
       " <td nowrap=\"nowrap\"><a href=\"/Archives/edgar/data/72971/000091205701504042/0000912057-01-504042-index.htm\" id=\"documentsbutton\"> Documents</a></td>\n",
       " <td class=\"small\">Annual report [Section 13 and 15(d), not S-K Item 405]<br>Acc-no: 0000912057-01-504042 Size: 657 KB            </br></td>\n",
       " <td>2001-03-16</td>\n",
       " <td nowrap=\"nowrap\"><a href=\"/cgi-bin/browse-edgar?action=getcompany&amp;filenum=001-02979&amp;owner=include&amp;count=40\">001-02979</a><br/>1570235         </td>\n",
       " </tr>, <tr class=\"blueRow\">\n",
       " <td nowrap=\"nowrap\">10-K</td>\n",
       " <td nowrap=\"nowrap\"><a href=\"/Archives/edgar/data/72971/0000912057-00-012168-index.html\" id=\"documentsbutton\"> Documents</a></td>\n",
       " <td class=\"small\">Annual report [Section 13 and 15(d), not S-K Item 405]<br>Acc-no: 0000912057-00-012168 Size: 714 KB            </br></td>\n",
       " <td>2000-03-17</td>\n",
       " <td nowrap=\"nowrap\"><a href=\"/cgi-bin/browse-edgar?action=getcompany&amp;filenum=001-02979&amp;owner=include&amp;count=40\">001-02979</a><br/>572372         </td>\n",
       " </tr>, <tr>\n",
       " <td nowrap=\"nowrap\">10-K/A</td>\n",
       " <td nowrap=\"nowrap\"><a href=\"/Archives/edgar/data/72971/0001047469-99-010910-index.html\" id=\"documentsbutton\"> Documents</a></td>\n",
       " <td class=\"small\"><b>[Amend]</b> Annual report [Section 13 and 15(d), not S-K Item 405]<br>Acc-no: 0001047469-99-010910 Size: 4 KB            </br></td>\n",
       " <td>1999-03-23</td>\n",
       " <td nowrap=\"nowrap\"><a href=\"/cgi-bin/browse-edgar?action=getcompany&amp;filenum=001-02979&amp;owner=include&amp;count=40\">001-02979</a><br/>99570944         </td>\n",
       " </tr>, <tr class=\"blueRow\">\n",
       " <td nowrap=\"nowrap\">10-K405</td>\n",
       " <td nowrap=\"nowrap\"><a href=\"/Archives/edgar/data/72971/0001047469-99-010171-index.html\" id=\"documentsbutton\"> Documents</a></td>\n",
       " <td class=\"small\">Annual report [Sections 13 and 15(d), S-K Item 405]<br>Acc-no: 0001047469-99-010171 Size: 921 KB            </br></td>\n",
       " <td>1999-03-17</td>\n",
       " <td nowrap=\"nowrap\"><a href=\"/cgi-bin/browse-edgar?action=getcompany&amp;filenum=001-02979&amp;owner=include&amp;count=40\">001-02979</a><br/>99567422         </td>\n",
       " </tr>, <tr>\n",
       " <td nowrap=\"nowrap\">10-K</td>\n",
       " <td nowrap=\"nowrap\"><a href=\"/Archives/edgar/data/72971/0001045969-98-000259-index.html\" id=\"documentsbutton\"> Documents</a></td>\n",
       " <td class=\"small\">Annual report [Section 13 and 15(d), not S-K Item 405]<br>Acc-no: 0001045969-98-000259 Size: 684 KB            </br></td>\n",
       " <td>1998-02-27</td>\n",
       " <td nowrap=\"nowrap\"><a href=\"/cgi-bin/browse-edgar?action=getcompany&amp;filenum=001-02979&amp;owner=include&amp;count=40\">001-02979</a><br/>98551844         </td>\n",
       " </tr>, <tr class=\"blueRow\">\n",
       " <td nowrap=\"nowrap\">10-K</td>\n",
       " <td nowrap=\"nowrap\"><a href=\"/Archives/edgar/data/72971/0000950109-97-001905-index.html\" id=\"documentsbutton\"> Documents</a></td>\n",
       " <td class=\"small\">Annual report [Section 13 and 15(d), not S-K Item 405]<br>Acc-no: 0000950109-97-001905 Size: 560 KB            </br></td>\n",
       " <td>1997-03-04</td>\n",
       " <td nowrap=\"nowrap\"><a href=\"/cgi-bin/browse-edgar?action=getcompany&amp;filenum=000-20565&amp;owner=include&amp;count=40\">000-20565</a><br/>97550132         </td>\n",
       " </tr>, <tr>\n",
       " <td nowrap=\"nowrap\">10-K</td>\n",
       " <td nowrap=\"nowrap\"><a href=\"/Archives/edgar/data/72971/0000950131-96-000962-index.html\" id=\"documentsbutton\"> Documents</a></td>\n",
       " <td class=\"small\">Annual report [Section 13 and 15(d), not S-K Item 405]<br>Acc-no: 0000950131-96-000962 Size: 526 KB            </br></td>\n",
       " <td>1996-03-07</td>\n",
       " <td nowrap=\"nowrap\"><a href=\"/cgi-bin/browse-edgar?action=getcompany&amp;filenum=000-20565&amp;owner=include&amp;count=40\">000-20565</a><br/>96532352         </td>\n",
       " </tr>, <tr class=\"blueRow\">\n",
       " <td nowrap=\"nowrap\">10-K</td>\n",
       " <td nowrap=\"nowrap\"><a href=\"/Archives/edgar/data/72971/0000950131-95-000611-index.html\" id=\"documentsbutton\"> Documents</a></td>\n",
       " <td class=\"small\">Annual report [Section 13 and 15(d), not S-K Item 405]<br>Acc-no: 0000950131-95-000611 Size: 463 KB            </br></td>\n",
       " <td>1995-03-16</td>\n",
       " <td nowrap=\"nowrap\"><a href=\"/cgi-bin/browse-edgar?action=getcompany&amp;filenum=001-02979&amp;owner=include&amp;count=40\">001-02979</a><br/>95521208         </td>\n",
       " </tr>, <tr>\n",
       " <td nowrap=\"nowrap\">10-K/A</td>\n",
       " <td nowrap=\"nowrap\"><a href=\"/Archives/edgar/data/72971/0000072971-94-000005-index.html\" id=\"documentsbutton\"> Documents</a></td>\n",
       " <td class=\"small\"><b>[Amend]</b> Annual report [Section 13 and 15(d), not S-K Item 405]<br>Acc-no: 0000072971-94-000005 Size: 150 KB            </br></td>\n",
       " <td>1994-05-13</td>\n",
       " <td nowrap=\"nowrap\"><a href=\"/cgi-bin/browse-edgar?action=getcompany&amp;filenum=001-02979&amp;owner=include&amp;count=40\">001-02979</a><br/>94528320         </td>\n",
       " </tr>, <tr class=\"blueRow\">\n",
       " <td nowrap=\"nowrap\">10-K</td>\n",
       " <td nowrap=\"nowrap\"><a href=\"/Archives/edgar/data/72971/0000072971-94-000003-index.html\" id=\"documentsbutton\"> Documents</a></td>\n",
       " <td class=\"small\">Annual report [Section 13 and 15(d), not S-K Item 405]<br>Acc-no: 0000072971-94-000003 Size: 384 KB            </br></td>\n",
       " <td>1994-03-08</td>\n",
       " <td nowrap=\"nowrap\"><a href=\"/cgi-bin/browse-edgar?action=getcompany&amp;filenum=001-02979&amp;owner=include&amp;count=40\">001-02979</a><br/>94515031         </td>\n",
       " </tr>]"
      ]
     },
     "execution_count": 9,
     "metadata": {},
     "output_type": "execute_result"
    }
   ],
   "source": [
    "rows"
   ]
  },
  {
   "cell_type": "code",
   "execution_count": 10,
   "metadata": {},
   "outputs": [
    {
     "data": {
      "text/plain": [
       "[<td nowrap=\"nowrap\">10-K</td>,\n",
       " <td nowrap=\"nowrap\"><a href=\"/Archives/edgar/data/72971/0000072971-94-000003-index.html\" id=\"documentsbutton\"> Documents</a></td>,\n",
       " <td class=\"small\">Annual report [Section 13 and 15(d), not S-K Item 405]<br>Acc-no: 0000072971-94-000003 Size: 384 KB            </br></td>,\n",
       " <td>1994-03-08</td>,\n",
       " <td nowrap=\"nowrap\"><a href=\"/cgi-bin/browse-edgar?action=getcompany&amp;filenum=001-02979&amp;owner=include&amp;count=40\">001-02979</a><br/>94515031         </td>]"
      ]
     },
     "execution_count": 10,
     "metadata": {},
     "output_type": "execute_result"
    }
   ],
   "source": [
    "cells"
   ]
  },
  {
   "cell_type": "code",
   "execution_count": 11,
   "metadata": {},
   "outputs": [
    {
     "data": {
      "text/plain": [
       "'https://www.sec.gov/Archives/edgar/data/72971/000007297115000449/0000072971-15-000449-index.htm'"
      ]
     },
     "execution_count": 11,
     "metadata": {},
     "output_type": "execute_result"
    }
   ],
   "source": [
    "doc_link\n"
   ]
  },
  {
   "cell_type": "code",
   "execution_count": 12,
   "metadata": {},
   "outputs": [],
   "source": [
    "# Obtain HTML for document page\n",
    "doc_resp = requests.get(doc_link)\n",
    "doc_str = doc_resp.text\n",
    "\n",
    "\n"
   ]
  },
  {
   "cell_type": "code",
   "execution_count": 13,
   "metadata": {},
   "outputs": [],
   "source": [
    "# Find the XBRL link\n",
    "xbrl_link = ''\n",
    "soup = BeautifulSoup(doc_str, 'html.parser')\n",
    "table_tag = soup.find('table', class_='tableFile', summary='Data Files')\n",
    "rows = table_tag.find_all('tr')\n",
    "for row in rows:\n",
    "    cells = row.find_all('td')\n",
    "    if len(cells) > 3:\n",
    "        if 'INS' in cells[3].text:\n",
    "            xbrl_link = 'https://www.sec.gov' + cells[2].a['href']\n",
    "\n"
   ]
  },
  {
   "cell_type": "code",
   "execution_count": 14,
   "metadata": {},
   "outputs": [],
   "source": [
    "# Obtain XBRL text from document\n",
    "xbrl_resp = requests.get(xbrl_link)\n",
    "xbrl_str = xbrl_resp.text\n",
    "\n"
   ]
  },
  {
   "cell_type": "code",
   "execution_count": 18,
   "metadata": {},
   "outputs": [],
   "source": [
    "# Find and print stockholder's equity\n",
    "soup = BeautifulSoup(xbrl_str, 'html.parser')\n",
    "tag_list = soup.find_all()\n",
    "\n",
    "#This section of code creates a context table. \n",
    "#The context table is a dictionary of context names keys that reference dictionary values \n",
    "#containing date information for each context. For contexts with datetype of 'period' the table \n",
    "#contains the start and end date. For contexts with datetype of 'instant' the context\n",
    "#contains the instant date of the context. All entries include a date and dateType value.\n",
    "#For contexts with datetype of period, the date is equal to the enddate of the context.\n",
    "\n",
    "contexts = {}\n",
    "\n",
    "for tag in tag_list:\n",
    "    if tag.name == 'xbrli:context':\n",
    "\n",
    "#This section of code finds the start date of the context if it exists.\n",
    "        start_date_tag = tag.find(name = 'xbrli:startdate')\n",
    "        if start_date_tag == None:\n",
    "            start_date = None\n",
    "        else:\n",
    "            start_date = start_date_tag.text\n",
    "\n",
    "#This section of code finds the end date of the context if it exists.\n",
    "        end_date_tag = tag.find(name = 'xbrli:enddate')\n",
    "        if end_date_tag == None:\n",
    "            end_date = None\n",
    "        else:\n",
    "            end_date = end_date_tag.text\n",
    "            date = end_date_tag.text\n",
    "            datetype = 'period'\n",
    "#This section of code finds the instant date of the context if it exists.\n",
    "        instant_date_tag = tag.find(name = 'xbrli:instant')\n",
    "        if instant_date_tag != None:\n",
    "            date = instant_date_tag.text\n",
    "            datetype = 'instant'\n",
    "#build a dictionary of date information within a dictionary of context titles\n",
    "        dtinfo = {'date' : date, 'year' : date[0:4], 'datetype' : datetype, 'startdate' : start_date, 'enddate' : end_date}\n",
    "        contexts[tag.attrs['id']] = dtinfo\n",
    "    \n"
   ]
  },
  {
   "cell_type": "code",
   "execution_count": 23,
   "metadata": {},
   "outputs": [
    {
     "name": "stdout",
     "output_type": "stream",
     "text": [
      "2013 Stockholder's equity: 170142000000\n",
      "2013 Stockholder's equity: 170142000000\n",
      "2014 Stockholder's equity: 184394000000\n",
      "2014 Stockholder's equity: 184394000000\n"
     ]
    }
   ],
   "source": [
    "# Find and print stockholder's equity\n",
    "for tag in tag_list:\n",
    "    if tag.name == 'us-gaap:stockholdersequity':\n",
    "        year = contexts[tag.attrs['contextref']]['year']\n",
    "        \n",
    "        print(year + \" Stockholder's equity: \" + tag.text)"
   ]
  },
  {
   "cell_type": "code",
   "execution_count": null,
   "metadata": {},
   "outputs": [],
   "source": []
  }
 ],
 "metadata": {
  "kernelspec": {
   "display_name": "Python 3",
   "language": "python",
   "name": "python3"
  },
  "language_info": {
   "codemirror_mode": {
    "name": "ipython",
    "version": 3
   },
   "file_extension": ".py",
   "mimetype": "text/x-python",
   "name": "python",
   "nbconvert_exporter": "python",
   "pygments_lexer": "ipython3",
   "version": "3.6.7"
  }
 },
 "nbformat": 4,
 "nbformat_minor": 2
}
